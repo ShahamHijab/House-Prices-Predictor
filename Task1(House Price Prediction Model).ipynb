{
  "nbformat": 4,
  "nbformat_minor": 0,
  "metadata": {
    "colab": {
      "provenance": []
    },
    "kernelspec": {
      "name": "python3",
      "display_name": "Python 3"
    },
    "language_info": {
      "name": "python"
    }
  },
  "cells": [
    {
      "cell_type": "code",
      "execution_count": 11,
      "metadata": {
        "id": "EJ0mZHxw7weq"
      },
      "outputs": [],
      "source": [
        "# Importing Libraries\n",
        "import pandas as pd\n",
        "import numpy as np\n",
        "from sklearn.model_selection import train_test_split\n",
        "from sklearn.linear_model import LinearRegression\n",
        "from sklearn.metrics import mean_squared_error, r2_score"
      ]
    },
    {
      "cell_type": "code",
      "source": [
        "# Loading all datasets individually\n",
        "train_ds = pd.read_csv('train.csv')\n",
        "test_ds = pd.read_csv('test.csv')\n",
        "sample_submission_ds = pd.read_csv('sample_submission.csv')"
      ],
      "metadata": {
        "id": "UAJzxwdUEqfd"
      },
      "execution_count": null,
      "outputs": []
    },
    {
      "cell_type": "code",
      "source": [
        "# Data Preprocessing\n",
        "# Select relevant features (based on what might affect house prices)\n",
        "features = ['GrLivArea', 'BedroomAbvGr', 'FullBath', 'HalfBath']\n",
        "target = 'SalePrice'\n",
        "\n",
        "# Extracting features and target variable from training data\n",
        "x = train_ds[features]\n",
        "y = train_ds[target]\n",
        "\n",
        "# Handling missing values by filling them with the median value of each column\n",
        "x = x.fillna(x.median())"
      ],
      "metadata": {
        "id": "w16PkivmAsGC"
      },
      "execution_count": 12,
      "outputs": []
    },
    {
      "cell_type": "code",
      "source": [
        "# Train-Test Split\n",
        "# Splitting the data into training and validation sets\n",
        "x_train, x_val, y_train, y_val = train_test_split(x, y, test_size=0.2, random_state=42)"
      ],
      "metadata": {
        "id": "2-ydKCIdAupa"
      },
      "execution_count": 13,
      "outputs": []
    },
    {
      "cell_type": "code",
      "source": [
        "# Train\n",
        "# Initializing and train the model\n",
        "model = LinearRegression()\n",
        "model.fit(x_train, y_train)\n",
        "\n",
        "# Making predictions on the validation set\n",
        "y_val_pred = model.predict(x_val)\n",
        "\n",
        "# Evaluating the model\n",
        "mse = mean_squared_error(y_val, y_val_pred)\n",
        "r2 = r2_score(y_val, y_val_pred)\n",
        "\n",
        "print(f\"Mean Squared Error: {mse}\")\n",
        "print(f\"R^2 Score: {r2}\")"
      ],
      "metadata": {
        "colab": {
          "base_uri": "https://localhost:8080/"
        },
        "id": "NIm-46M3AzvJ",
        "outputId": "78a1bb1a-c1bd-49e5-bf6e-4c8fa300bad0"
      },
      "execution_count": 14,
      "outputs": [
        {
          "output_type": "stream",
          "name": "stdout",
          "text": [
            "Mean Squared Error: 2810942965.2180653\n",
            "R^2 Score: 0.6335301929422245\n"
          ]
        }
      ]
    },
    {
      "cell_type": "code",
      "source": [
        "# Predicting\n",
        "# Preprocessing the test data similarly to training data\n",
        "X_test = test_ds[features]\n",
        "X_test = X_test.fillna(X_test.median())\n",
        "\n",
        "# Making predictions on the test set\n",
        "test_predictions = model.predict(X_test)\n",
        "\n",
        "# Preparing the submission file\n",
        "submission_df = sample_submission_ds.copy()\n",
        "submission_df['SalePrice'] = test_predictions\n",
        "\n",
        "# Saving the submission file\n",
        "submission_df.to_csv('submission.csv', index=False)"
      ],
      "metadata": {
        "id": "_H56KKv6A2xb"
      },
      "execution_count": 15,
      "outputs": []
    }
  ]
}